{
 "cells": [
  {
   "cell_type": "code",
   "execution_count": 1,
   "metadata": {
    "collapsed": true
   },
   "outputs": [],
   "source": [
    "from Bio import SeqIO\n",
    "import gzip\n",
    "import itertools\n",
    "import numpy as np\n",
    "alphabet = 'ACDEFGHIKLMNPQRSTVWY'\n",
    "alphabet_list = list('ACDEFGHIKLMNPQRSTVWY')"
   ]
  },
  {
   "cell_type": "code",
   "execution_count": 2,
   "metadata": {
    "collapsed": true
   },
   "outputs": [],
   "source": [
    "# US social security information containing \"year,name,gender,count\":\n",
    "names_file = 'yob_all.txt.gz'\n",
    "# Human proteome from UniProt:\n",
    "human_proteome_file = 'uniprot-reviewed%3Ayes+AND+proteome%3Aup000005640.fasta.gz'\n",
    "chosen_gender = 'F'\n",
    "rev_gender = 'M'\n",
    "# Min/max name length:\n",
    "max_Kmer = 5  # you don't want this to be >7\n",
    "min_Kmer = 3\n",
    "# Filter based on names after a cutoff:\n",
    "year_cutoff = 1970\n",
    "# Filter on minimum number of name occurrences:\n",
    "min_count = 1000\n",
    "# Number of name clusters:\n",
    "name_clusters = 5"
   ]
  },
  {
   "cell_type": "code",
   "execution_count": 3,
   "metadata": {
    "collapsed": false
   },
   "outputs": [
    {
     "name": "stdout",
     "output_type": "stream",
     "text": [
      "Number of names: 3368000\n"
     ]
    }
   ],
   "source": [
    "# Make all combinations of \"amino acid names\":\n",
    "combi_names = set()\n",
    "for i in range(min_Kmer, max_Kmer+1):\n",
    "    for name in itertools.product(alphabet_list, repeat=i):\n",
    "        combi_names.add(''.join(name))\n",
    "print('Number of names: {}'.format(len(combi_names)))"
   ]
  },
  {
   "cell_type": "code",
   "execution_count": 4,
   "metadata": {
    "collapsed": false
   },
   "outputs": [],
   "source": [
    "# Read all US names according to social security registration:\n",
    "US_names = dict()\n",
    "for l in gzip.open(names_file, 'rt'):\n",
    "    l = l.strip()\n",
    "    year, name, gender, count = l.split(',')\n",
    "    key = (name.upper(), gender)\n",
    "    if key in US_names:\n",
    "        US_names[key].append({int(year): int(count)})\n",
    "    else:\n",
    "        US_names[key] = [{int(year): int(count)}]"
   ]
  },
  {
   "cell_type": "code",
   "execution_count": 5,
   "metadata": {
    "collapsed": false
   },
   "outputs": [
    {
     "name": "stdout",
     "output_type": "stream",
     "text": [
      "The top 10 \"amino acid names\" out of 1076 total names.\n",
      "NAME  COUNT\n",
      "SARAH 775331\n",
      "EMILY 730071\n",
      "AMY   514554\n",
      "MEGAN 427797\n",
      "EMMA  393085\n",
      "LISA  368363\n",
      "MARY  362288\n",
      "KAYLA 331985\n",
      "KELLY 326185\n",
      "ANNA  302210\n"
     ]
    }
   ],
   "source": [
    "# Subset the \"amino acid names\" according to the minimum popularity:\n",
    "US_names_sub = dict()\n",
    "for k in US_names:\n",
    "    # Filter on gender and being composed of amino acids:\n",
    "    if k[1] == chosen_gender and k[0] in combi_names:\n",
    "        sum_count = 0\n",
    "        for years in US_names[k]:\n",
    "            if list(years.keys())[0] >= year_cutoff:\n",
    "                sum_count += list(years.values())[0]\n",
    "        # Filter for majority gender names:\n",
    "        sum_count_reverse_gender = 0\n",
    "        try:\n",
    "            for years in US_names[(k[0], rev_gender)]:\n",
    "                if list(years.keys())[0] >= year_cutoff:\n",
    "                    sum_count_reverse_gender += list(years.values())[0]\n",
    "        except KeyError:\n",
    "            pass\n",
    "        if sum_count >= min_count and sum_count > sum_count_reverse_gender:\n",
    "            US_names_sub[k[0]] = sum_count\n",
    "US_names_sub = sorted(US_names_sub.items(), key=lambda x: x[1], reverse=True)\n",
    "print('The top 10 \"amino acid names\" out of {} total names.'.format(len(US_names_sub)))\n",
    "print('{:6}{}'.format(*['NAME', 'COUNT']))\n",
    "print('\\n'.join(['{:6}{}'.format(*n) for n in US_names_sub[:10]]))"
   ]
  },
  {
   "cell_type": "code",
   "execution_count": 6,
   "metadata": {
    "collapsed": false
   },
   "outputs": [
    {
     "name": "stdout",
     "output_type": "stream",
     "text": [
      "The top 10 \"amino acid names\" out of 69 total names after subsetting by presence in the human proteome.\n",
      "NAME  COUNT\n",
      "AMY   514554\n",
      "SARA  293058\n",
      "AVA   221360\n",
      "MIA   198225\n",
      "TARA  155459\n",
      "TINA  122131\n",
      "ANA   83581\n",
      "EVA   70469\n",
      "MYA   51430\n",
      "IVY   33735\n"
     ]
    }
   ],
   "source": [
    "# Read the human proteome:\n",
    "proteome_dict = dict()\n",
    "with gzip.open(human_proteome_file, 'rt') as fh:\n",
    "    for record in SeqIO.parse(handle=fh, format='fasta'):\n",
    "        seq = str(record.seq)\n",
    "        ID = str(record.id)\n",
    "        proteome_dict[ID] = seq.upper()\n",
    "\n",
    "# Subset by presence in the human proteome:\n",
    "sub = dict()\n",
    "for t in US_names_sub:\n",
    "    name, count = t\n",
    "    found = False\n",
    "    for seq, ID in proteome_dict.items():\n",
    "        if name in seq:\n",
    "            found = True\n",
    "            break\n",
    "    if found:\n",
    "        sub[name] = count\n",
    "US_names_sub = sorted(sub.items(), key=lambda x: x[1], reverse=True)\n",
    "print('The top 10 \"amino acid names\" out of {} total names after subsetting by presence in the human proteome.'.format(len(US_names_sub)))\n",
    "print('{:6}{}'.format(*['NAME', 'COUNT']))\n",
    "print('\\n'.join(['{:6}{}'.format(*n) for n in US_names_sub[:10]]))"
   ]
  },
  {
   "cell_type": "code",
   "execution_count": 7,
   "metadata": {
    "collapsed": true
   },
   "outputs": [],
   "source": [
    "# Align names using MAFFT:\n",
    "from Bio.Align.Applications import MafftCommandline\n",
    "import os\n",
    "fname = 'tmp.fasta'\n",
    "out_fasta = 'names.fasta'\n",
    "with open(fname, 'w') as fho:\n",
    "    for i, t in enumerate(US_names_sub):\n",
    "        name, count = t\n",
    "        fho.write('>{}_{}\\n{}\\n'.format(name, count, name))\n",
    "mafft_cline = MafftCommandline(input=fname)\n",
    "mafft_results = mafft_cline()[0]\n",
    "with open(out_fasta, 'w') as fho:\n",
    "    fho.write(mafft_results[:-1])\n",
    "os.remove(fname)"
   ]
  },
  {
   "cell_type": "code",
   "execution_count": 8,
   "metadata": {
    "collapsed": false
   },
   "outputs": [],
   "source": [
    "# Parse alignment:\n",
    "aligned_names = list()\n",
    "name_list = list()\n",
    "for line in mafft_results.split('\\n'):\n",
    "    if not line.startswith('>') and line != '':\n",
    "        name = line.strip()\n",
    "        aligned_names.append(name)\n",
    "        name_list.append(name.replace('-', ''))\n",
    "# Make one hot encoding:\n",
    "alphabet_gaps_list = ['-'] + alphabet_list\n",
    "alphabet_gaps_list\n",
    "name_encoding = np.zeros((len(aligned_names), len(aligned_names[0]), len(alphabet_gaps_list)))\n",
    "align_len = len(aligned_names[0])\n",
    "for i, aligned_name in enumerate(aligned_names):\n",
    "    for j, aa in enumerate(aligned_name):\n",
    "        name_encoding[i][j][alphabet_gaps_list.index(aa)] = 1\n",
    "name_encoding_flat = np.array([np.array(list(name.flatten())).T for name in name_encoding])"
   ]
  },
  {
   "cell_type": "code",
   "execution_count": 9,
   "metadata": {
    "collapsed": false
   },
   "outputs": [
    {
     "data": {
      "image/png": "[encoded data removed]",
      "text/plain": [
       "<matplotlib.figure.Figure at 0x108e509b0>"
      ]
     },
     "metadata": {},
     "output_type": "display_data"
    }
   ],
   "source": [
    "# Find centroids:\n",
    "from sklearn.cluster import KMeans\n",
    "from sklearn.metrics import pairwise_distances_argmin_min\n",
    "X = name_encoding_flat\n",
    "km = KMeans(n_clusters=name_clusters, random_state=1).fit(X)\n",
    "closest, _ = pairwise_distances_argmin_min(km.cluster_centers_, X)\n",
    "centroid_names = [name_list[i] for i in closest]\n",
    "# Plot centroids in PCR space:\n",
    "import seaborn as sns\n",
    "palette = sns.color_palette(\"muted\", 10)\n",
    "import matplotlib.pyplot as plt\n",
    "from sklearn.decomposition import PCA\n",
    "pca = PCA(n_components=2)\n",
    "X_r = pca.fit(X).transform(X)\n",
    "plt.figure(figsize=(12,12))\n",
    "cmap = [palette[i] for i in km.labels_]\n",
    "plt.scatter(X_r[:,0], X_r[:,1], alpha=0.7, c=cmap)\n",
    "pca_centroid = pca.transform(km.cluster_centers_)\n",
    "centroid_colors = [cmap[i] for i in closest]\n",
    "for i, name in enumerate(centroid_names):\n",
    "    plt.annotate(name, pca_centroid[i], size=15, color=centroid_colors[i], weight='bold')\n",
    "plt.title('Name clusters in PCA space', size=20)\n",
    "plt.savefig('baby_names.pdf')\n",
    "plt.show()"
   ]
  },
  {
   "cell_type": "code",
   "execution_count": null,
   "metadata": {
    "collapsed": false
   },
   "outputs": [],
   "source": []
  },
  {
   "cell_type": "code",
   "execution_count": null,
   "metadata": {
    "collapsed": false
   },
   "outputs": [],
   "source": []
  }
 ],
 "metadata": {
  "kernelspec": {
   "display_name": "Python 3",
   "language": "python",
   "name": "python3"
  },
  "language_info": {
   "codemirror_mode": {
    "name": "ipython",
    "version": 3
   },
   "file_extension": ".py",
   "mimetype": "text/x-python",
   "name": "python",
   "nbconvert_exporter": "python",
   "pygments_lexer": "ipython3",
   "version": "3.6.1"
  }
 },
 "nbformat": 4,
 "nbformat_minor": 2
}
