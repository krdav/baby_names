{
 "cells": [
  {
   "cell_type": "code",
   "execution_count": 8,
   "metadata": {
    "collapsed": true
   },
   "outputs": [],
   "source": [
    "from Bio import SeqIO\n",
    "import itertools\n",
    "alphabet = 'ACDEFGHIKLMNPQRSTVWY'\n",
    "alphabet_list = list('ACDEFGHIKLMNPQRSTVWY')"
   ]
  },
  {
   "cell_type": "code",
   "execution_count": null,
   "metadata": {
    "collapsed": true
   },
   "outputs": [],
   "source": []
  },
  {
   "cell_type": "code",
   "execution_count": 198,
   "metadata": {
    "collapsed": true
   },
   "outputs": [],
   "source": [
    "names_file = 'yob_all.txt'\n",
    "human_proteome_file = 'uniprot-reviewed%3Ayes+AND+proteome%3Aup000005640.fasta'\n",
    "chosen_gender = 'F'\n",
    "max_Kmer = 5\n",
    "min_Kmer = 3\n",
    "year_cutoff = 1970\n",
    "min_count = 1000"
   ]
  },
  {
   "cell_type": "code",
   "execution_count": null,
   "metadata": {
    "collapsed": true
   },
   "outputs": [],
   "source": []
  },
  {
   "cell_type": "code",
   "execution_count": 192,
   "metadata": {
    "collapsed": false
   },
   "outputs": [
    {
     "name": "stdout",
     "output_type": "stream",
     "text": [
      "Number of names: 3368000\n"
     ]
    }
   ],
   "source": [
    "# Make all combinations of \"amino acid names\":\n",
    "combi_names = set()\n",
    "for i in range(min_Kmer, max_Kmer+1):\n",
    "    for name in itertools.product(alphabet_list, repeat=i):\n",
    "        combi_names.add(''.join(name))\n",
    "print('Number of names: {}'.format(len(combi_names)))"
   ]
  },
  {
   "cell_type": "code",
   "execution_count": 193,
   "metadata": {
    "collapsed": true
   },
   "outputs": [],
   "source": [
    "# Read all US names according to social security registration:\n",
    "US_names = dict()\n",
    "for l in open(names_file):\n",
    "    l = l.strip()\n",
    "    year, name, gender, count = l.split(',')\n",
    "    key = (name.upper(), gender)\n",
    "    if key in US_names:\n",
    "        US_names[key].append({int(year): int(count)})\n",
    "    else:\n",
    "        US_names[key] = [{int(year): int(count)}]"
   ]
  },
  {
   "cell_type": "code",
   "execution_count": 199,
   "metadata": {
    "collapsed": false
   },
   "outputs": [
    {
     "name": "stdout",
     "output_type": "stream",
     "text": [
      "The top 10 \"amino acid names\" out of 1145 total names.\n",
      "NAME  COUNT\n",
      "SARAH 775331\n",
      "EMILY 730071\n",
      "AMY   514554\n",
      "MEGAN 427797\n",
      "EMMA  393085\n",
      "LISA  368363\n",
      "MARY  362288\n",
      "KAYLA 331985\n",
      "KELLY 326185\n",
      "ANNA  302210\n"
     ]
    }
   ],
   "source": [
    "# Subset the \"amino acid names\" according to the minimum popularity:\n",
    "US_names_sub = dict()\n",
    "for k in US_names:\n",
    "    # Filter on gender and being composed of amino acids:\n",
    "    if k[1] == chosen_gender and k[0] in combi_names:\n",
    "        sum_count = 0\n",
    "        for years in US_names[k]:\n",
    "            if list(years.keys())[0] >= year_cutoff:\n",
    "                sum_count += list(years.values())[0]\n",
    "        if sum_count >= min_count:\n",
    "            US_names_sub[k[0]] = sum_count\n",
    "US_names_sub = sorted(US_names_sub.items(), key=lambda x: x[1], reverse=True)\n",
    "print('The top 10 \"amino acid names\" out of {} total names.'.format(len(US_names_sub)))\n",
    "print('{:6}{}'.format(*['NAME', 'COUNT']))\n",
    "print('\\n'.join(['{:6}{}'.format(*n) for n in US_names_sub[:10]]))"
   ]
  },
  {
   "cell_type": "code",
   "execution_count": 200,
   "metadata": {
    "collapsed": false
   },
   "outputs": [
    {
     "name": "stdout",
     "output_type": "stream",
     "text": [
      "The top 10 \"amino acid names\" out of 79 total names after subsetting by presence in the human proteome.\n",
      "NAME  COUNT\n",
      "AMY   514554\n",
      "SARA  293058\n",
      "AVA   221360\n",
      "MIA   198225\n",
      "TARA  155459\n",
      "TINA  122131\n",
      "ANA   83581\n",
      "EVA   70469\n",
      "MYA   51430\n",
      "IVY   33735\n"
     ]
    }
   ],
   "source": [
    "# Read the human proteome\n",
    "proteome_dict = dict()\n",
    "for record in SeqIO.parse(human_proteome_file, 'fasta'):\n",
    "    seq = str(record.seq)\n",
    "    ID = str(record.id)\n",
    "    proteome_dict[ID] = seq.upper()\n",
    "\n",
    "# Subset by presence in the human proteome:\n",
    "sub = dict()\n",
    "for t in US_names_sub:\n",
    "    name, count = t\n",
    "    found = False\n",
    "    for seq, ID in proteome_dict.items():\n",
    "        if name in seq:\n",
    "            found = True\n",
    "            break\n",
    "    if found:\n",
    "        sub[name] = count\n",
    "US_names_sub = sorted(sub.items(), key=lambda x: x[1], reverse=True)\n",
    "print('The top 10 \"amino acid names\" out of {} total names after subsetting by presence in the human proteome.'.format(len(US_names_sub)))\n",
    "print('{:6}{}'.format(*['NAME', 'COUNT']))\n",
    "print('\\n'.join(['{:6}{}'.format(*n) for n in US_names_sub[:10]]))"
   ]
  },
  {
   "cell_type": "code",
   "execution_count": 128,
   "metadata": {
    "collapsed": false
   },
   "outputs": [],
   "source": []
  },
  {
   "cell_type": "code",
   "execution_count": 201,
   "metadata": {
    "collapsed": true
   },
   "outputs": [],
   "source": [
    "from Bio.Align.Applications import MafftCommandline\n",
    "import os\n",
    "fname = 'tmp.fasta'\n",
    "out_fasta = 'names.fasta'\n",
    "with open(fname, 'w') as fho:\n",
    "    for i, t in enumerate(US_names_sub):\n",
    "        name, count = t\n",
    "        fho.write('>{}_{}\\n{}\\n'.format(name, count, name))\n",
    "mafft_cline = MafftCommandline(input=fname)\n",
    "mafft_results = mafft_cline()[0]\n",
    "with open(out_fasta, 'w') as fho:\n",
    "    fho.write(mafft_results[:-1])\n",
    "os.remove(fname)"
   ]
  },
  {
   "cell_type": "code",
   "execution_count": null,
   "metadata": {
    "collapsed": false
   },
   "outputs": [],
   "source": []
  },
  {
   "cell_type": "code",
   "execution_count": null,
   "metadata": {
    "collapsed": false
   },
   "outputs": [],
   "source": []
  },
  {
   "cell_type": "code",
   "execution_count": 202,
   "metadata": {
    "collapsed": false
   },
   "outputs": [],
   "source": [
    "seqs = list()\n",
    "for line in mafft_results.split('\\n'):\n",
    "    if not line.startswith('>') and line != '':\n",
    "        seqs.append(line.strip())"
   ]
  },
  {
   "cell_type": "code",
   "execution_count": null,
   "metadata": {
    "collapsed": false
   },
   "outputs": [],
   "source": []
  },
  {
   "cell_type": "code",
   "execution_count": 144,
   "metadata": {
    "collapsed": false
   },
   "outputs": [
    {
     "name": "stderr",
     "output_type": "stream",
     "text": [
      "Traceback (most recent call last):\n",
      "  File \"/usr/local/bin/ete3\", line 7, in <module>\n",
      "    from ete3.tools.ete import main\n",
      "  File \"/usr/local/lib/python3.6/site-packages/ete3/tools/ete.py\", line 54, in <module>\n",
      "    from . import (ete_split, ete_expand, ete_annotate, ete_ncbiquery, ete_view,\n",
      "  File \"/usr/local/lib/python3.6/site-packages/ete3/tools/ete_view.py\", line 48, in <module>\n",
      "    from .. import (Tree, PhyloTree, TextFace, RectFace, faces, TreeStyle, CircleFace, AttrFace,\n",
      "ImportError: cannot import name 'TextFace'\n"
     ]
    }
   ],
   "source": [
    "%%bash\n",
    "ete3 build -w standard_fasttree -a names.fasta -o names_tree/ --clearall"
   ]
  },
  {
   "cell_type": "code",
   "execution_count": 93,
   "metadata": {
    "collapsed": false
   },
   "outputs": [],
   "source": []
  },
  {
   "cell_type": "code",
   "execution_count": null,
   "metadata": {
    "collapsed": true
   },
   "outputs": [],
   "source": []
  },
  {
   "cell_type": "code",
   "execution_count": 148,
   "metadata": {
    "collapsed": false
   },
   "outputs": [],
   "source": []
  },
  {
   "cell_type": "code",
   "execution_count": null,
   "metadata": {
    "collapsed": false
   },
   "outputs": [],
   "source": []
  },
  {
   "cell_type": "code",
   "execution_count": null,
   "metadata": {
    "collapsed": false
   },
   "outputs": [],
   "source": []
  },
  {
   "cell_type": "code",
   "execution_count": 203,
   "metadata": {
    "collapsed": false
   },
   "outputs": [],
   "source": [
    "from jellyfish import levenshtein_distance\n",
    "import numpy as np\n",
    "from sklearn.cluster import dbscan\n",
    "names = [el[0] for el in US_names_sub]\n",
    "def lev_metric(x, y):\n",
    "    i, j = int(x[0]), int(y[0])     # extract indices\n",
    "    return(levenshtein_distance(names[i], names[j]))\n",
    "X = np.arange(len(names)).reshape(-1, 1)\n",
    "db = dbscan(X, metric=lev_metric, eps=1, min_samples=1)"
   ]
  },
  {
   "cell_type": "code",
   "execution_count": 215,
   "metadata": {
    "collapsed": false
   },
   "outputs": [
    {
     "data": {
      "text/plain": [
       "KMeans(algorithm='auto', copy_x=True, init='k-means++', max_iter=300,\n",
       "    n_clusters=10, n_init=10, n_jobs=1, precompute_distances='auto',\n",
       "    random_state=None, tol=0.0001, verbose=0)"
      ]
     },
     "execution_count": 215,
     "metadata": {},
     "output_type": "execute_result"
    }
   ],
   "source": [
    "from sklearn.cluster import KMeans\n",
    "km = KMeans(n_clusters=10)\n",
    "km.fit(X)"
   ]
  },
  {
   "cell_type": "code",
   "execution_count": 217,
   "metadata": {
    "collapsed": false
   },
   "outputs": [
    {
     "data": {
      "text/plain": [
       "array([[ 36. ],\n",
       "       [ 67.5],\n",
       "       [ 10.5],\n",
       "       [ 52. ],\n",
       "       [ 27. ],\n",
       "       [  3. ],\n",
       "       [ 75. ],\n",
       "       [ 44.5],\n",
       "       [ 59.5],\n",
       "       [ 18.5]])"
      ]
     },
     "execution_count": 217,
     "metadata": {},
     "output_type": "execute_result"
    }
   ],
   "source": [
    "km.cluster_centers_"
   ]
  },
  {
   "cell_type": "code",
   "execution_count": null,
   "metadata": {
    "collapsed": true
   },
   "outputs": [],
   "source": []
  },
  {
   "cell_type": "code",
   "execution_count": 204,
   "metadata": {
    "collapsed": false
   },
   "outputs": [
    {
     "data": {
      "text/plain": [
       "(array([ 0,  1,  2,  3,  4,  5,  6,  7,  8,  9, 10, 11, 12, 13, 14, 15, 16,\n",
       "        17, 18, 19, 20, 21, 22, 23, 24, 25, 26, 27, 28, 29, 30, 31, 32, 33,\n",
       "        34, 35, 36, 37, 38, 39, 40, 41, 42, 43, 44, 45, 46, 47, 48, 49, 50,\n",
       "        51, 52, 53, 54, 55, 56, 57, 58, 59, 60, 61, 62, 63, 64, 65, 66, 67,\n",
       "        68, 69, 70, 71, 72, 73, 74, 75, 76, 77, 78]),\n",
       " array([ 0,  0,  0,  0,  0,  0,  0,  0,  0,  0,  0,  0,  0,  0,  1,  0,  0,\n",
       "         2,  0,  0,  0,  0,  0,  0,  0,  3,  4,  0,  0,  0,  0,  3,  5,  0,\n",
       "         0,  0,  0,  0,  0,  1,  6,  0,  0,  0,  0,  7,  0,  0,  0,  0,  8,\n",
       "         0,  9,  0,  0, 10,  0,  0,  0, 11, 12,  0,  0,  0,  0, 13,  0, 14,\n",
       "         0, 15,  0,  0,  0, 16,  0,  0,  0,  0,  0]))"
      ]
     },
     "execution_count": 204,
     "metadata": {},
     "output_type": "execute_result"
    }
   ],
   "source": [
    "db"
   ]
  },
  {
   "cell_type": "code",
   "execution_count": 205,
   "metadata": {
    "collapsed": false
   },
   "outputs": [],
   "source": [
    "name_clusters = dict()\n",
    "for i, el in enumerate(US_names_sub):\n",
    "    name, count = el\n",
    "    cl_idx = db[1][i]\n",
    "    if cl_idx in name_clusters:\n",
    "        name_clusters[cl_idx].append((name, count))\n",
    "    else:\n",
    "        name_clusters[cl_idx] = [(name, count)]\n",
    "\n",
    "name_clusters = {k: sorted(v, key=lambda x: x[1], reverse=True) for k, v in name_clusters.items()}"
   ]
  },
  {
   "cell_type": "code",
   "execution_count": 206,
   "metadata": {
    "collapsed": false
   },
   "outputs": [
    {
     "data": {
      "text/plain": [
       "3"
      ]
     },
     "execution_count": 206,
     "metadata": {},
     "output_type": "execute_result"
    }
   ],
   "source": [
    "levenshtein_distance('AMY', 'SARA')"
   ]
  },
  {
   "cell_type": "code",
   "execution_count": 207,
   "metadata": {
    "collapsed": false
   },
   "outputs": [
    {
     "data": {
      "text/plain": [
       "{0: [('AMY', 514554),\n",
       "  ('SARA', 293058),\n",
       "  ('AVA', 221360),\n",
       "  ('MIA', 198225),\n",
       "  ('TARA', 155459),\n",
       "  ('TINA', 122131),\n",
       "  ('ANA', 83581),\n",
       "  ('EVA', 70469),\n",
       "  ('MYA', 51430),\n",
       "  ('IVY', 33735),\n",
       "  ('TIA', 29766),\n",
       "  ('KIM', 27431),\n",
       "  ('RITA', 23339),\n",
       "  ('LEA', 19660),\n",
       "  ('LIA', 15987),\n",
       "  ('CALI', 14997),\n",
       "  ('ADA', 13620),\n",
       "  ('ALI', 9633),\n",
       "  ('TERA', 8802),\n",
       "  ('IDA', 7336),\n",
       "  ('KIA', 7140),\n",
       "  ('MAE', 6639),\n",
       "  ('AIDA', 6448),\n",
       "  ('KAI', 5534),\n",
       "  ('RAE', 5284),\n",
       "  ('NYA', 5055),\n",
       "  ('MAI', 4614),\n",
       "  ('KERA', 3273),\n",
       "  ('RIA', 3054),\n",
       "  ('MEG', 2956),\n",
       "  ('EMA', 2751),\n",
       "  ('ILA', 2672),\n",
       "  ('ARI', 2664),\n",
       "  ('EMI', 2456),\n",
       "  ('MICA', 2337),\n",
       "  ('TEA', 2318),\n",
       "  ('IVA', 2250),\n",
       "  ('INA', 2134),\n",
       "  ('TALA', 2092),\n",
       "  ('PIA', 2088),\n",
       "  ('NADA', 2082),\n",
       "  ('ADAM', 1922),\n",
       "  ('TAI', 1675),\n",
       "  ('ERMA', 1587),\n",
       "  ('DIA', 1527),\n",
       "  ('TENA', 1459),\n",
       "  ('SERA', 1449),\n",
       "  ('MEA', 1421),\n",
       "  ('ANH', 1399),\n",
       "  ('ELA', 1384),\n",
       "  ('CERA', 1337),\n",
       "  ('LITA', 1267),\n",
       "  ('SIA', 1206),\n",
       "  ('ENA', 1187),\n",
       "  ('TEAL', 1179),\n",
       "  ('MEI', 1126),\n",
       "  ('IRA', 1114),\n",
       "  ('ARA', 1102),\n",
       "  ('ASA', 1042),\n",
       "  ('ALY', 1027),\n",
       "  ('RIMA', 1004)],\n",
       " 1: [('SAGE', 16241), ('PAGE', 2560)],\n",
       " 2: [('LYRIC', 14128)],\n",
       " 3: [('KISHA', 6216), ('ISHA', 3689)],\n",
       " 4: [('STAR', 5787)],\n",
       " 5: [('ERIC', 3467)],\n",
       " 6: [('INES', 2553)],\n",
       " 7: [('RAIN', 2191)],\n",
       " 8: [('MARK', 2068)],\n",
       " 9: [('ANEL', 1765)],\n",
       " 10: [('CATE', 1551)],\n",
       " 11: [('PERI', 1441)],\n",
       " 12: [('NELL', 1432)],\n",
       " 13: [('PAM', 1296)],\n",
       " 14: [('CHER', 1230)],\n",
       " 15: [('LYN', 1193)],\n",
       " 16: [('AVEN', 1126)]}"
      ]
     },
     "execution_count": 207,
     "metadata": {},
     "output_type": "execute_result"
    }
   ],
   "source": [
    "name_clusters"
   ]
  },
  {
   "cell_type": "code",
   "execution_count": null,
   "metadata": {
    "collapsed": false
   },
   "outputs": [],
   "source": []
  },
  {
   "cell_type": "code",
   "execution_count": null,
   "metadata": {
    "collapsed": true
   },
   "outputs": [],
   "source": []
  },
  {
   "cell_type": "code",
   "execution_count": null,
   "metadata": {
    "collapsed": true
   },
   "outputs": [],
   "source": []
  }
 ],
 "metadata": {
  "kernelspec": {
   "display_name": "Python 3",
   "language": "python",
   "name": "python3"
  },
  "language_info": {
   "codemirror_mode": {
    "name": "ipython",
    "version": 3
   },
   "file_extension": ".py",
   "mimetype": "text/x-python",
   "name": "python",
   "nbconvert_exporter": "python",
   "pygments_lexer": "ipython3",
   "version": "3.6.1"
  }
 },
 "nbformat": 4,
 "nbformat_minor": 2
}
